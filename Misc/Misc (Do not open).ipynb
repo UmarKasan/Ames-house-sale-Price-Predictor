{
 "cells": [
  {
   "cell_type": "markdown",
   "metadata": {},
   "source": [
    "# 5. Linear Regression"
   ]
  },
  {
   "cell_type": "markdown",
   "metadata": {},
   "source": [
    "## 5.1 Identify X & y"
   ]
  },
  {
   "cell_type": "code",
   "execution_count": null,
   "metadata": {},
   "outputs": [],
   "source": [
    "#Creating X and y\n",
    "X = Clean_train_df.loc[:,Clean_train_df.columns != 'SalePrice']\n",
    "X.shape"
   ]
  },
  {
   "cell_type": "code",
   "execution_count": null,
   "metadata": {},
   "outputs": [],
   "source": [
    "y = Clean_train_df[ 'SalePrice']\n",
    "y.head()"
   ]
  },
  {
   "cell_type": "code",
   "execution_count": null,
   "metadata": {},
   "outputs": [],
   "source": [
    "ss = StandardScaler()\n",
    "ss.fit(X_train)\n",
    "X_train_scaled = ss.transform(X_train)\n",
    "X_test_scaled = ss.transform(X_test)\n",
    "X.shape"
   ]
  },
  {
   "cell_type": "code",
   "execution_count": null,
   "metadata": {},
   "outputs": [],
   "source": [
    "X_train_scaled.shape"
   ]
  },
  {
   "cell_type": "markdown",
   "metadata": {},
   "source": [
    "## 5.3 The Linear & The Elastic Net"
   ]
  },
  {
   "cell_type": "markdown",
   "metadata": {},
   "source": [
    "### 5.3.1 Linear Regression"
   ]
  },
  {
   "cell_type": "code",
   "execution_count": null,
   "metadata": {},
   "outputs": [],
   "source": [
    "lr = linear_model.LinearRegression()\n",
    "model = lr.fit(X_train_scaled, y_train)\n",
    "\n",
    "predictions  =  model.predict(X_train_scaled)\n",
    "\n",
    "# Plot the model\n",
    "plt.figure(figsize=(8,8))\n",
    "plt.scatter(predictions, y_train, s=30, c='r', marker='+', zorder=10)\n",
    "plt.xlabel(\"Predicted Values  - $\\hat{y}$\")\n",
    "plt.ylabel(\"Actual Values PRICE - y\")\n",
    "\n",
    "plt.plot([0, np.max(y)], [0, np.max(y)], c = 'k')\n",
    "\n",
    "plt.show()"
   ]
  },
  {
   "cell_type": "code",
   "execution_count": null,
   "metadata": {},
   "outputs": [],
   "source": [
    "lr.fit(X_train_scaled, y_train)"
   ]
  },
  {
   "cell_type": "markdown",
   "metadata": {},
   "source": [
    "### Generate Coeficients for Linear Regression"
   ]
  },
  {
   "cell_type": "code",
   "execution_count": null,
   "metadata": {},
   "outputs": [],
   "source": [
    "lr.coef_"
   ]
  },
  {
   "cell_type": "markdown",
   "metadata": {},
   "source": [
    "### Predict"
   ]
  },
  {
   "cell_type": "code",
   "execution_count": null,
   "metadata": {},
   "outputs": [],
   "source": [
    "y_hat = lr.predict(X_test_scaled)"
   ]
  },
  {
   "cell_type": "markdown",
   "metadata": {},
   "source": [
    "### Generate $R^2$ for Linear Regression"
   ]
  },
  {
   "cell_type": "code",
   "execution_count": null,
   "metadata": {},
   "outputs": [],
   "source": [
    "scores_train = cross_val_score(lr,X_train_scaled,y_train, n_jobs = -1)\n",
    "scores_train.mean()"
   ]
  },
  {
   "cell_type": "code",
   "execution_count": null,
   "metadata": {},
   "outputs": [],
   "source": [
    "scores_test = cross_val_score(lr,X_test_scaled,y_test, n_jobs = -1)\n",
    "scores_test.mean()"
   ]
  },
  {
   "cell_type": "markdown",
   "metadata": {},
   "source": [
    "### 5.3.2 Elastic Net"
   ]
  },
  {
   "cell_type": "code",
   "execution_count": null,
   "metadata": {},
   "outputs": [],
   "source": [
    "l1_ratios = np.linspace(0.01, 1.0, 25)\n",
    "\n",
    "optimal_enet = ElasticNetCV(l1_ratio=l1_ratios, n_alphas=100, cv=10,\n",
    "                            verbose=1)\n",
    "optimal_enet.fit(X_train_scaled, y_train)"
   ]
  },
  {
   "cell_type": "code",
   "execution_count": null,
   "metadata": {},
   "outputs": [],
   "source": [
    "enet = ElasticNet(alpha=optimal_enet.alpha_, l1_ratio=optimal_enet.l1_ratio_)\n",
    "print(enet)"
   ]
  },
  {
   "cell_type": "code",
   "execution_count": null,
   "metadata": {},
   "outputs": [],
   "source": [
    "enet.fit(X_train_scaled, y_train)"
   ]
  },
  {
   "cell_type": "markdown",
   "metadata": {},
   "source": [
    "### Generate Coeficients for Elastic Net"
   ]
  },
  {
   "cell_type": "code",
   "execution_count": null,
   "metadata": {},
   "outputs": [],
   "source": [
    "enet.coef_"
   ]
  },
  {
   "cell_type": "code",
   "execution_count": null,
   "metadata": {},
   "outputs": [],
   "source": [
    "predictions_E = enet.predict(X_train_scaled)"
   ]
  },
  {
   "cell_type": "code",
   "execution_count": null,
   "metadata": {},
   "outputs": [],
   "source": [
    "plt.scatter(predictions_E, y_train, s=30, c='r', marker='+', zorder=10)\n",
    "plt.xlabel(\"Predicted Values Enet  - $\\hat{y}$\")\n",
    "plt.ylabel(\"Actual Values PRICE - y\")\n",
    "\n",
    "plt.plot([0, np.max(y)], [0, np.max(y)], c = 'k')\n",
    "\n",
    "plt.show()"
   ]
  },
  {
   "cell_type": "code",
   "execution_count": null,
   "metadata": {},
   "outputs": [],
   "source": [
    "enet_scores_train = cross_val_score(enet, X_train_scaled, y_train, cv=10)\n",
    "enet_scores_test = cross_val_score(enet, X_test_scaled, y_test, cv=10)\n",
    "print('enet_scores_train:')\n",
    "print(enet_scores_train.mean())\n",
    "print('enet_scores_test:')\n",
    "print(enet_scores_test.mean())"
   ]
  },
  {
   "cell_type": "code",
   "execution_count": null,
   "metadata": {},
   "outputs": [],
   "source": []
  },
  {
   "cell_type": "code",
   "execution_count": null,
   "metadata": {},
   "outputs": [],
   "source": [
    "predict_df.shape"
   ]
  },
  {
   "cell_type": "code",
   "execution_count": null,
   "metadata": {},
   "outputs": [],
   "source": [
    "predict_df['Lot Shape'] = des_to_num(predict_df, 'Lot Shape')\n",
    "predict_df['Utilities'] = des_to_num(predict_df, 'Utilities')\n",
    "predict_df['Land Slope'] = des_to_num(predict_df, 'Land Slope')\n",
    "predict_df['Exter Qual'] = des_to_num(predict_df, 'Exter Qual')\n",
    "predict_df['Exter Cond'] = des_to_num(predict_df, 'Exter Cond')\n",
    "predict_df['Bsmt Qual'] = des_to_num(predict_df, 'Bsmt Qual')\n",
    "predict_df['Bsmt Cond'] = des_to_num(predict_df, 'Bsmt Cond')\n",
    "predict_df['Heating QC'] = des_to_num(predict_df, 'Heating QC')\n",
    "predict_df['Kitchen Qual'] = des_to_num(predict_df, 'Kitchen Qual')\n",
    "predict_df['Fireplace Qu'] = des_to_num(predict_df, 'Fireplace Qu')\n",
    "predict_df['Garage Qual'] = des_to_num(predict_df, 'Garage Qual')\n",
    "predict_df['Garage Cond'] = des_to_num(predict_df, 'Garage Cond')\n",
    "predict_df['Pool QC'] = des_to_num(predict_df, 'Pool QC')\n",
    "predict_df['Bsmt Exposure'] = des_to_num(predict_df, 'Bsmt Exposure')\n",
    "predict_df['BsmtFin Type 1'] = des_to_num(predict_df, 'BsmtFin Type 1')\n",
    "predict_df['BsmtFin Type 2'] = des_to_num(predict_df, 'BsmtFin Type 2')\n",
    "predict_df['Electrical'] = des_to_num(predict_df, 'Electrical')\n",
    "predict_df['Functional'] = des_to_num(predict_df, 'Functional')\n",
    "predict_df['Garage Finish'] = des_to_num(predict_df, 'Garage Finish')\n",
    "predict_df['Paved Drive'] = des_to_num(predict_df, 'Paved Drive')\n",
    "predict_df['Fence'] = des_to_num(predict_df, 'Fence')"
   ]
  },
  {
   "cell_type": "code",
   "execution_count": null,
   "metadata": {},
   "outputs": [],
   "source": [
    "#Pool QC: Nan as NA as 0\n",
    "predict_df['Pool QC'] = predict_df['Pool QC'].replace({np.nan: 0})\n",
    "#Bsmt Qual: Nan as NA as 0\n",
    "predict_df['Bsmt Qual'] = predict_df['Bsmt Qual'].replace({np.nan: 0})\n",
    "#BsmtFin Type 2: Nan as NA  as 0\n",
    "predict_df['BsmtFin Type 2'] = predict_df['BsmtFin Type 2'].replace({np.nan: 0})\n",
    "#BsmtFin Type 2: Nan as NA as 0\n",
    "predict_df['BsmtFin Type 1'] = predict_df['BsmtFin Type 1'].replace({np.nan: 0})\n",
    "#Mas Vnr Type: Nan as NA as 0\n",
    "predict_df['Mas Vnr Type'] = predict_df['Mas Vnr Type'].replace({np.nan: 0})\n",
    "#Fireplace Qu: Nan as NA as 0\n",
    "predict_df['Fireplace Qu'] = predict_df['Fireplace Qu'].replace({np.nan: 0})\n",
    "#Garage Finish: Nan as NA as 0\n",
    "predict_df['Garage Finish'] = predict_df['Garage Finish'].replace({np.nan: 0})\n",
    "#Garage Cond: Nan as NA as 0\n",
    "predict_df['Garage Cond'] = predict_df['Garage Cond'].replace({np.nan: 0})\n",
    "#Garage Qual: Nan as NA as 0\n",
    "predict_df['Garage Qual'] = predict_df['Garage Qual'].replace({np.nan: 0})\n",
    "#Garage Type: Nan as NA as 0\n",
    "predict_df['Garage Type'] = predict_df['Garage Type'].replace({np.nan: 0})\n",
    "#Bsmt Cond: Nan as NA as 0\n",
    "predict_df['Bsmt Cond'] = predict_df['Bsmt Cond'].replace({np.nan: 0})\n",
    "#Bsmt Exposure: Nan as NA as 0\n",
    "predict_df['Bsmt Exposure'] = predict_df['Bsmt Exposure'].replace({np.nan: 0})\n",
    "#Misc Feature: Nan as NA as 0\n",
    "predict_df['Misc Feature'] = predict_df['Misc Feature'].replace({np.nan: 0})\n",
    "\n",
    "predict_df['Alley'] = predict_df['Alley'].replace({np.nan: 0})\n",
    "\n",
    "predict_df['Fence'] = predict_df['Fence'].replace({np.nan: 0})\n",
    "\n",
    "predict_df['Garage Yr Blt'] = predict_df['Garage Yr Blt'].fillna(0)\n",
    "predict_df['Mas Vnr Area'] = predict_df['Mas Vnr Area'].fillna(0)\n",
    "predict_df['Lot Frontage'] = predict_df['Lot Frontage'].fillna(0)\n",
    "# other features\n",
    "predict_df['MS Zoning'] = predict_df['MS Zoning'].fillna('RL')\n",
    "predict_df['Utilities'] = predict_df['Utilities'].fillna('4')\n",
    "predict_df['Bsmt Half Bath'] = predict_df['Bsmt Half Bath'].fillna(0)\n",
    "predict_df['Bsmt Full Bath'] = predict_df['Bsmt Full Bath'].fillna(0)\n",
    "predict_df['Functional'] = predict_df['Functional'].fillna('8')\n",
    "predict_df['Garage Area'] = predict_df['Garage Area'].fillna(a)\n",
    "predict_df['Garage Cars'] = predict_df['Garage Cars'].fillna(2)\n",
    "predict_df['BsmtFin SF 2'] = predict_df['BsmtFin SF 2'].fillna(b)\n",
    "predict_df['BsmtFin SF 1'] = predict_df['BsmtFin SF 1'].fillna(c)\n",
    "predict_df['Exterior 2nd'] = predict_df['Exterior 2nd'].fillna('VinylSd')\n",
    "predict_df['Kitchen Qual'] = predict_df['Kitchen Qual'].fillna('3')\n",
    "predict_df['Bsmt Unf SF'] = predict_df['Bsmt Unf SF'].fillna(d)\n",
    "predict_df['Sale Type'] = predict_df['Sale Type'].fillna(predict_df['Sale Type'].value_counts().index[0])\n",
    "predict_df.shape"
   ]
  },
  {
   "cell_type": "markdown",
   "metadata": {},
   "source": [
    "### Check for Nan values"
   ]
  },
  {
   "cell_type": "code",
   "execution_count": null,
   "metadata": {},
   "outputs": [],
   "source": [
    "predict_df.isna().sum()"
   ]
  },
  {
   "cell_type": "code",
   "execution_count": null,
   "metadata": {},
   "outputs": [],
   "source": [
    "predict_df['Electrical'].value_counts()"
   ]
  },
  {
   "cell_type": "code",
   "execution_count": null,
   "metadata": {},
   "outputs": [],
   "source": [
    "predict_df['Electrical'] = predict_df['Garage Yr Blt'].fillna(5)"
   ]
  },
  {
   "cell_type": "code",
   "execution_count": null,
   "metadata": {},
   "outputs": [],
   "source": [
    "predict_df.isna().sum().sum()"
   ]
  },
  {
   "cell_type": "markdown",
   "metadata": {},
   "source": [
    "### Create new Columns"
   ]
  },
  {
   "cell_type": "code",
   "execution_count": null,
   "metadata": {},
   "outputs": [],
   "source": [
    "predict_df['Age'] = predict_df['Yr Sold'] - predict_df['Year Built']\n",
    "predict_df['Mod_Age'] = predict_df['Yr Sold'] - predict_df['Year Remod/Add']"
   ]
  },
  {
   "cell_type": "code",
   "execution_count": null,
   "metadata": {},
   "outputs": [],
   "source": [
    "predict_df.shape"
   ]
  },
  {
   "cell_type": "code",
   "execution_count": null,
   "metadata": {},
   "outputs": [],
   "source": [
    "X_predict_df = predict_df.drop(['PID','Garage Cars','Pool QC','Yr Sold','Year Built','Condition 1', 'Year Remod/Add', '1st Flr SF'], axis = 1)"
   ]
  },
  {
   "cell_type": "code",
   "execution_count": null,
   "metadata": {},
   "outputs": [],
   "source": [
    "X_predict_df.shape"
   ]
  },
  {
   "cell_type": "code",
   "execution_count": null,
   "metadata": {},
   "outputs": [],
   "source": [
    "predict_dummy_df = pd.get_dummies(X_predict_df[['Id', \n",
    "                                          'MS Zoning', 'Roof Style',\n",
    "                                          'Roof Matl', 'Exterior 1st',\n",
    "                                          'Exterior 2nd', 'Mas Vnr Type', \n",
    "                                          'Street', 'Alley', 'Land Contour',\n",
    "                                          'Lot Config', 'Neighborhood', \n",
    "                                          'Condition 2', \n",
    "                                          'Bldg Type', 'House Style', \n",
    "                                          'Foundation', 'Heating', \n",
    "                                          'Central Air', 'Garage Type', \n",
    "                                          'Misc Feature','Sale Type', \n",
    "                                         ]], drop_first=True)\n",
    "predict_dummy_df.shape"
   ]
  },
  {
   "cell_type": "code",
   "execution_count": null,
   "metadata": {},
   "outputs": [],
   "source": [
    "predict_dummy_df.head()"
   ]
  },
  {
   "cell_type": "code",
   "execution_count": null,
   "metadata": {},
   "outputs": [],
   "source": [
    "predict_dummy_df = predict_dummy_df.align(train_dummy_df, axis =1, join=\"right\")"
   ]
  },
  {
   "cell_type": "code",
   "execution_count": null,
   "metadata": {},
   "outputs": [],
   "source": [
    "type(predict_dummy_df[1])"
   ]
  },
  {
   "cell_type": "code",
   "execution_count": null,
   "metadata": {},
   "outputs": [],
   "source": [
    "predict_dummy_df = predict_dummy_df[0]"
   ]
  },
  {
   "cell_type": "code",
   "execution_count": null,
   "metadata": {},
   "outputs": [],
   "source": [
    "C_predict_df = X_predict_df.drop(['MS Zoning', 'Roof Style',\n",
    "                                    'Roof Matl', 'Exterior 1st',\n",
    "                                    'Exterior 2nd', 'Mas Vnr Type', \n",
    "                                    'Street', 'Alley', 'Land Contour',\n",
    "                                    'Lot Config', 'Neighborhood', \n",
    "                                    'Condition 2', \n",
    "                                    'Bldg Type', 'House Style', \n",
    "                                    'Foundation', 'Heating', \n",
    "                                    'Central Air', 'Garage Type', \n",
    "                                    'Misc Feature','Sale Type'], axis = 1)\n",
    "C_predict_df.head()"
   ]
  },
  {
   "cell_type": "code",
   "execution_count": null,
   "metadata": {},
   "outputs": [],
   "source": [
    "Clean_predict_df = pd.merge(predict_dummy_df, C_predict_df, on ='Id')\n",
    "Clean_predict_df.drop(['Id'],axis=1, inplace = True)\n",
    "Clean_predict_df.shape"
   ]
  },
  {
   "cell_type": "code",
   "execution_count": null,
   "metadata": {},
   "outputs": [],
   "source": [
    "Clean_predict_df.fillna(0, inplace = True)"
   ]
  },
  {
   "cell_type": "markdown",
   "metadata": {},
   "source": [
    "Identify X & y"
   ]
  },
  {
   "cell_type": "code",
   "execution_count": null,
   "metadata": {},
   "outputs": [],
   "source": [
    "Xp = Clean_predict_df"
   ]
  },
  {
   "cell_type": "markdown",
   "metadata": {},
   "source": [
    "Scale"
   ]
  },
  {
   "cell_type": "code",
   "execution_count": null,
   "metadata": {},
   "outputs": [],
   "source": [
    "ss.fit(Xp)\n",
    "X_predict_scaled = ss.transform(Xp)"
   ]
  },
  {
   "cell_type": "code",
   "execution_count": null,
   "metadata": {},
   "outputs": [],
   "source": [
    "X_train_scaled.shape"
   ]
  },
  {
   "cell_type": "code",
   "execution_count": null,
   "metadata": {},
   "outputs": [],
   "source": [
    "X_train_scaled"
   ]
  },
  {
   "cell_type": "code",
   "execution_count": null,
   "metadata": {},
   "outputs": [],
   "source": [
    "predictions_Ep = enet.predict(X_predict_scaled)"
   ]
  },
  {
   "cell_type": "code",
   "execution_count": null,
   "metadata": {},
   "outputs": [],
   "source": [
    "print(predictions_Ep)"
   ]
  },
  {
   "cell_type": "code",
   "execution_count": null,
   "metadata": {},
   "outputs": [],
   "source": [
    "kaggle_sub = pd.DataFrame()\n",
    "kaggle_sub['Id'] = C_predict_df['Id']\n",
    "kaggle_sub['SalePrice'] = predictions_Ep"
   ]
  },
  {
   "cell_type": "code",
   "execution_count": null,
   "metadata": {},
   "outputs": [],
   "source": [
    "kaggle_sub"
   ]
  },
  {
   "cell_type": "code",
   "execution_count": null,
   "metadata": {},
   "outputs": [],
   "source": [
    "kaggle_sub.to_csv(\"predicted_SalePrice.csv\", index=False, header=True)"
   ]
  }
 ],
 "metadata": {
  "kernelspec": {
   "display_name": "Python 3",
   "language": "python",
   "name": "python3"
  },
  "language_info": {
   "codemirror_mode": {
    "name": "ipython",
    "version": 3
   },
   "file_extension": ".py",
   "mimetype": "text/x-python",
   "name": "python",
   "nbconvert_exporter": "python",
   "pygments_lexer": "ipython3",
   "version": "3.7.3"
  }
 },
 "nbformat": 4,
 "nbformat_minor": 2
}
