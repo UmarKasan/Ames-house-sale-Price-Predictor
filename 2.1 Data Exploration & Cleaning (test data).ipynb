{
 "cells": [
  {
   "cell_type": "code",
   "execution_count": 1,
   "metadata": {},
   "outputs": [],
   "source": [
    "import pandas as pd\n",
    "import numpy as np"
   ]
  },
  {
   "cell_type": "code",
   "execution_count": 2,
   "metadata": {},
   "outputs": [],
   "source": [
    "predict_df = pd.read_csv('./datasets/test.csv')"
   ]
  },
  {
   "cell_type": "code",
   "execution_count": 3,
   "metadata": {},
   "outputs": [],
   "source": [
    "des_value = {'Reg': 4,'IR1': 3,'IR2': 2,'IR3': 1, 'AllPub': 4, 'NoSewr': 3, \n",
    "            'NoSeWa': 2,'ELO': 1, 'Gtl': 3, 'Mod': 2, 'Sev': 1, 'Ex': 5, \n",
    "            'Gd': 4, 'TA': 3, 'Fa': 2, 'Po': 1, 'NA': 0, 'GLQ': 6, 'ALQ': 5,\n",
    "            'BLQ': 4, 'Rec': 3, 'LwQ': 2, 'Unf': 1, 'SBrkr': 5, 'FuseA': 4,\n",
    "            'FuseF': 3, 'FuseP': 2, 'Mix': 1, 'Typ': 8, 'Min1': 7, 'Min2': 6,\n",
    "            'Mod': 5, 'Maj1': 4, 'Maj2': 3, 'Sev': 2, 'Sal': 1, 'Fin': 3,\n",
    "            'RFn': 2, 'Y': 3, 'P': 2, 'N': 1, 'GdPrv': 4, 'MnPrv': 3, \n",
    "             'GdWo': 2, 'MnWw': 1}\n",
    "def des_to_num(dataframe, column):\n",
    "    return dataframe[column].map(des_value)"
   ]
  },
  {
   "cell_type": "code",
   "execution_count": 4,
   "metadata": {},
   "outputs": [],
   "source": [
    "predict_df['Lot Shape'] = des_to_num(predict_df, 'Lot Shape')\n",
    "predict_df['Utilities'] = des_to_num(predict_df, 'Utilities')\n",
    "predict_df['Land Slope'] = des_to_num(predict_df, 'Land Slope')\n",
    "predict_df['Exter Qual'] = des_to_num(predict_df, 'Exter Qual')\n",
    "predict_df['Exter Cond'] = des_to_num(predict_df, 'Exter Cond')\n",
    "predict_df['Bsmt Qual'] = des_to_num(predict_df, 'Bsmt Qual')\n",
    "predict_df['Bsmt Cond'] = des_to_num(predict_df, 'Bsmt Cond')\n",
    "predict_df['Heating QC'] = des_to_num(predict_df, 'Heating QC')\n",
    "predict_df['Kitchen Qual'] = des_to_num(predict_df, 'Kitchen Qual')\n",
    "predict_df['Fireplace Qu'] = des_to_num(predict_df, 'Fireplace Qu')\n",
    "predict_df['Garage Qual'] = des_to_num(predict_df, 'Garage Qual')\n",
    "predict_df['Garage Cond'] = des_to_num(predict_df, 'Garage Cond')\n",
    "predict_df['Pool QC'] = des_to_num(predict_df, 'Pool QC')\n",
    "predict_df['Bsmt Exposure'] = des_to_num(predict_df, 'Bsmt Exposure')\n",
    "predict_df['BsmtFin Type 1'] = des_to_num(predict_df, 'BsmtFin Type 1')\n",
    "predict_df['BsmtFin Type 2'] = des_to_num(predict_df, 'BsmtFin Type 2')\n",
    "predict_df['Electrical'] = des_to_num(predict_df, 'Electrical')\n",
    "predict_df['Functional'] = des_to_num(predict_df, 'Functional')\n",
    "predict_df['Garage Finish'] = des_to_num(predict_df, 'Garage Finish')\n",
    "predict_df['Paved Drive'] = des_to_num(predict_df, 'Paved Drive')\n",
    "predict_df['Fence'] = des_to_num(predict_df, 'Fence')"
   ]
  },
  {
   "cell_type": "code",
   "execution_count": 5,
   "metadata": {},
   "outputs": [],
   "source": [
    "a,b,c,d =473.6717073170732, 47.959024390243904, 442.30048780487806,567.7282926829268"
   ]
  },
  {
   "cell_type": "code",
   "execution_count": 6,
   "metadata": {},
   "outputs": [
    {
     "data": {
      "text/plain": [
       "(879, 80)"
      ]
     },
     "execution_count": 6,
     "metadata": {},
     "output_type": "execute_result"
    }
   ],
   "source": [
    "#Pool QC: Nan as NA as 0\n",
    "predict_df['Pool QC'] = predict_df['Pool QC'].replace({np.nan: 0})\n",
    "#Bsmt Qual: Nan as NA as 0\n",
    "predict_df['Bsmt Qual'] = predict_df['Bsmt Qual'].replace({np.nan: 0})\n",
    "#BsmtFin Type 2: Nan as NA  as 0\n",
    "predict_df['BsmtFin Type 2'] = predict_df['BsmtFin Type 2'].replace({np.nan: 0})\n",
    "#BsmtFin Type 2: Nan as NA as 0\n",
    "predict_df['BsmtFin Type 1'] = predict_df['BsmtFin Type 1'].replace({np.nan: 0})\n",
    "#Mas Vnr Type: Nan as NA as 0\n",
    "predict_df['Mas Vnr Type'] = predict_df['Mas Vnr Type'].replace({np.nan: 0})\n",
    "#Fireplace Qu: Nan as NA as 0\n",
    "predict_df['Fireplace Qu'] = predict_df['Fireplace Qu'].replace({np.nan: 0})\n",
    "#Garage Finish: Nan as NA as 0\n",
    "predict_df['Garage Finish'] = predict_df['Garage Finish'].replace({np.nan: 0})\n",
    "#Garage Cond: Nan as NA as 0\n",
    "predict_df['Garage Cond'] = predict_df['Garage Cond'].replace({np.nan: 0})\n",
    "#Garage Qual: Nan as NA as 0\n",
    "predict_df['Garage Qual'] = predict_df['Garage Qual'].replace({np.nan: 0})\n",
    "#Garage Type: Nan as NA as 0\n",
    "predict_df['Garage Type'] = predict_df['Garage Type'].replace({np.nan: 0})\n",
    "#Bsmt Cond: Nan as NA as 0\n",
    "predict_df['Bsmt Cond'] = predict_df['Bsmt Cond'].replace({np.nan: 0})\n",
    "#Bsmt Exposure: Nan as NA as 0\n",
    "predict_df['Bsmt Exposure'] = predict_df['Bsmt Exposure'].replace({np.nan: 0})\n",
    "#Misc Feature: Nan as NA as 0\n",
    "predict_df['Misc Feature'] = predict_df['Misc Feature'].replace({np.nan: 0})\n",
    "\n",
    "predict_df['Alley'] = predict_df['Alley'].replace({np.nan: 0})\n",
    "\n",
    "predict_df['Fence'] = predict_df['Fence'].replace({np.nan: 0})\n",
    "\n",
    "predict_df['Garage Yr Blt'] = predict_df['Garage Yr Blt'].fillna(0)\n",
    "predict_df['Mas Vnr Area'] = predict_df['Mas Vnr Area'].fillna(0)\n",
    "predict_df['Lot Frontage'] = predict_df['Lot Frontage'].fillna(0)\n",
    "# other features\n",
    "predict_df['MS Zoning'] = predict_df['MS Zoning'].fillna('RL')\n",
    "predict_df['Utilities'] = predict_df['Utilities'].fillna('4')\n",
    "predict_df['Bsmt Half Bath'] = predict_df['Bsmt Half Bath'].fillna(0)\n",
    "predict_df['Bsmt Full Bath'] = predict_df['Bsmt Full Bath'].fillna(0)\n",
    "predict_df['Functional'] = predict_df['Functional'].fillna('8')\n",
    "predict_df['Garage Area'] = predict_df['Garage Area'].fillna(a)\n",
    "predict_df['Garage Cars'] = predict_df['Garage Cars'].fillna(2)\n",
    "predict_df['BsmtFin SF 2'] = predict_df['BsmtFin SF 2'].fillna(b)\n",
    "predict_df['BsmtFin SF 1'] = predict_df['BsmtFin SF 1'].fillna(c)\n",
    "predict_df['Exterior 2nd'] = predict_df['Exterior 2nd'].fillna('VinylSd')\n",
    "predict_df['Kitchen Qual'] = predict_df['Kitchen Qual'].fillna('3')\n",
    "predict_df['Bsmt Unf SF'] = predict_df['Bsmt Unf SF'].fillna(d)\n",
    "predict_df['Sale Type'] = predict_df['Sale Type'].fillna(predict_df['Sale Type'].value_counts().index[0])\n",
    "predict_df['Electrical'] = predict_df['Garage Yr Blt'].fillna(5)\n",
    "predict_df.shape"
   ]
  },
  {
   "cell_type": "code",
   "execution_count": 7,
   "metadata": {},
   "outputs": [],
   "source": [
    "predict_df['Age'] = predict_df['Yr Sold'] - predict_df['Year Built']\n",
    "predict_df['Mod_Age'] = predict_df['Yr Sold'] - predict_df['Year Remod/Add']"
   ]
  },
  {
   "cell_type": "code",
   "execution_count": 8,
   "metadata": {},
   "outputs": [],
   "source": [
    "X_predict_df = predict_df.drop(['PID','Garage Cars','Pool QC','Yr Sold','Year Built','Condition 1', 'Year Remod/Add', '1st Flr SF'], axis = 1)"
   ]
  },
  {
   "cell_type": "code",
   "execution_count": 9,
   "metadata": {},
   "outputs": [
    {
     "data": {
      "text/plain": [
       "(879, 124)"
      ]
     },
     "execution_count": 9,
     "metadata": {},
     "output_type": "execute_result"
    }
   ],
   "source": [
    "predict_dummy_df = pd.get_dummies(X_predict_df[['Id', \n",
    "                                          'MS Zoning', 'Roof Style',\n",
    "                                          'Roof Matl', 'Exterior 1st',\n",
    "                                          'Exterior 2nd', 'Mas Vnr Type', \n",
    "                                          'Street', 'Alley', 'Land Contour',\n",
    "                                          'Lot Config', 'Neighborhood', \n",
    "                                          'Condition 2', \n",
    "                                          'Bldg Type', 'House Style', \n",
    "                                          'Foundation', 'Heating', \n",
    "                                          'Central Air', 'Garage Type', \n",
    "                                          'Misc Feature','Sale Type', \n",
    "                                         ]], drop_first=True)\n",
    "predict_dummy_df.shape"
   ]
  },
  {
   "cell_type": "markdown",
   "metadata": {},
   "source": [
    "Train_df has 2051 features"
   ]
  },
  {
   "cell_type": "code",
   "execution_count": 10,
   "metadata": {},
   "outputs": [],
   "source": [
    "# predict_dummy_df = predict_dummy_df.align(train_dummy_df, axis =1, join=\"right\")"
   ]
  },
  {
   "cell_type": "code",
   "execution_count": 11,
   "metadata": {},
   "outputs": [],
   "source": [
    "# predict_dummy_df = predict_dummy_df[0]"
   ]
  },
  {
   "cell_type": "code",
   "execution_count": 12,
   "metadata": {},
   "outputs": [
    {
     "data": {
      "text/html": [
       "<div>\n",
       "<style scoped>\n",
       "    .dataframe tbody tr th:only-of-type {\n",
       "        vertical-align: middle;\n",
       "    }\n",
       "\n",
       "    .dataframe tbody tr th {\n",
       "        vertical-align: top;\n",
       "    }\n",
       "\n",
       "    .dataframe thead th {\n",
       "        text-align: right;\n",
       "    }\n",
       "</style>\n",
       "<table border=\"1\" class=\"dataframe\">\n",
       "  <thead>\n",
       "    <tr style=\"text-align: right;\">\n",
       "      <th></th>\n",
       "      <th>Id</th>\n",
       "      <th>MS SubClass</th>\n",
       "      <th>Lot Frontage</th>\n",
       "      <th>Lot Area</th>\n",
       "      <th>Lot Shape</th>\n",
       "      <th>Utilities</th>\n",
       "      <th>Land Slope</th>\n",
       "      <th>Overall Qual</th>\n",
       "      <th>Overall Cond</th>\n",
       "      <th>Mas Vnr Area</th>\n",
       "      <th>...</th>\n",
       "      <th>Open Porch SF</th>\n",
       "      <th>Enclosed Porch</th>\n",
       "      <th>3Ssn Porch</th>\n",
       "      <th>Screen Porch</th>\n",
       "      <th>Pool Area</th>\n",
       "      <th>Fence</th>\n",
       "      <th>Misc Val</th>\n",
       "      <th>Mo Sold</th>\n",
       "      <th>Age</th>\n",
       "      <th>Mod_Age</th>\n",
       "    </tr>\n",
       "  </thead>\n",
       "  <tbody>\n",
       "    <tr>\n",
       "      <th>0</th>\n",
       "      <td>2658</td>\n",
       "      <td>190</td>\n",
       "      <td>69.0</td>\n",
       "      <td>9142</td>\n",
       "      <td>4</td>\n",
       "      <td>4</td>\n",
       "      <td>3</td>\n",
       "      <td>6</td>\n",
       "      <td>8</td>\n",
       "      <td>0.0</td>\n",
       "      <td>...</td>\n",
       "      <td>60</td>\n",
       "      <td>112</td>\n",
       "      <td>0</td>\n",
       "      <td>0</td>\n",
       "      <td>0</td>\n",
       "      <td>0.0</td>\n",
       "      <td>0</td>\n",
       "      <td>4</td>\n",
       "      <td>96</td>\n",
       "      <td>56</td>\n",
       "    </tr>\n",
       "    <tr>\n",
       "      <th>1</th>\n",
       "      <td>2718</td>\n",
       "      <td>90</td>\n",
       "      <td>0.0</td>\n",
       "      <td>9662</td>\n",
       "      <td>3</td>\n",
       "      <td>4</td>\n",
       "      <td>3</td>\n",
       "      <td>5</td>\n",
       "      <td>4</td>\n",
       "      <td>0.0</td>\n",
       "      <td>...</td>\n",
       "      <td>0</td>\n",
       "      <td>0</td>\n",
       "      <td>0</td>\n",
       "      <td>0</td>\n",
       "      <td>0</td>\n",
       "      <td>0.0</td>\n",
       "      <td>0</td>\n",
       "      <td>8</td>\n",
       "      <td>29</td>\n",
       "      <td>29</td>\n",
       "    </tr>\n",
       "    <tr>\n",
       "      <th>2</th>\n",
       "      <td>2414</td>\n",
       "      <td>60</td>\n",
       "      <td>58.0</td>\n",
       "      <td>17104</td>\n",
       "      <td>3</td>\n",
       "      <td>4</td>\n",
       "      <td>3</td>\n",
       "      <td>7</td>\n",
       "      <td>5</td>\n",
       "      <td>0.0</td>\n",
       "      <td>...</td>\n",
       "      <td>24</td>\n",
       "      <td>0</td>\n",
       "      <td>0</td>\n",
       "      <td>0</td>\n",
       "      <td>0</td>\n",
       "      <td>0.0</td>\n",
       "      <td>0</td>\n",
       "      <td>9</td>\n",
       "      <td>0</td>\n",
       "      <td>0</td>\n",
       "    </tr>\n",
       "    <tr>\n",
       "      <th>3</th>\n",
       "      <td>1989</td>\n",
       "      <td>30</td>\n",
       "      <td>60.0</td>\n",
       "      <td>8520</td>\n",
       "      <td>4</td>\n",
       "      <td>4</td>\n",
       "      <td>3</td>\n",
       "      <td>5</td>\n",
       "      <td>6</td>\n",
       "      <td>0.0</td>\n",
       "      <td>...</td>\n",
       "      <td>0</td>\n",
       "      <td>184</td>\n",
       "      <td>0</td>\n",
       "      <td>0</td>\n",
       "      <td>0</td>\n",
       "      <td>0.0</td>\n",
       "      <td>0</td>\n",
       "      <td>7</td>\n",
       "      <td>84</td>\n",
       "      <td>1</td>\n",
       "    </tr>\n",
       "    <tr>\n",
       "      <th>4</th>\n",
       "      <td>625</td>\n",
       "      <td>20</td>\n",
       "      <td>0.0</td>\n",
       "      <td>9500</td>\n",
       "      <td>3</td>\n",
       "      <td>4</td>\n",
       "      <td>3</td>\n",
       "      <td>6</td>\n",
       "      <td>5</td>\n",
       "      <td>247.0</td>\n",
       "      <td>...</td>\n",
       "      <td>76</td>\n",
       "      <td>0</td>\n",
       "      <td>0</td>\n",
       "      <td>185</td>\n",
       "      <td>0</td>\n",
       "      <td>0.0</td>\n",
       "      <td>0</td>\n",
       "      <td>7</td>\n",
       "      <td>46</td>\n",
       "      <td>46</td>\n",
       "    </tr>\n",
       "  </tbody>\n",
       "</table>\n",
       "<p>5 rows × 54 columns</p>\n",
       "</div>"
      ],
      "text/plain": [
       "     Id  MS SubClass  Lot Frontage  Lot Area  Lot Shape  Utilities  \\\n",
       "0  2658          190          69.0      9142          4          4   \n",
       "1  2718           90           0.0      9662          3          4   \n",
       "2  2414           60          58.0     17104          3          4   \n",
       "3  1989           30          60.0      8520          4          4   \n",
       "4   625           20           0.0      9500          3          4   \n",
       "\n",
       "   Land Slope  Overall Qual  Overall Cond  Mas Vnr Area  ...  Open Porch SF  \\\n",
       "0           3             6             8           0.0  ...             60   \n",
       "1           3             5             4           0.0  ...              0   \n",
       "2           3             7             5           0.0  ...             24   \n",
       "3           3             5             6           0.0  ...              0   \n",
       "4           3             6             5         247.0  ...             76   \n",
       "\n",
       "   Enclosed Porch  3Ssn Porch  Screen Porch  Pool Area  Fence  Misc Val  \\\n",
       "0             112           0             0          0    0.0         0   \n",
       "1               0           0             0          0    0.0         0   \n",
       "2               0           0             0          0    0.0         0   \n",
       "3             184           0             0          0    0.0         0   \n",
       "4               0           0           185          0    0.0         0   \n",
       "\n",
       "   Mo Sold  Age  Mod_Age  \n",
       "0        4   96       56  \n",
       "1        8   29       29  \n",
       "2        9    0        0  \n",
       "3        7   84        1  \n",
       "4        7   46       46  \n",
       "\n",
       "[5 rows x 54 columns]"
      ]
     },
     "execution_count": 12,
     "metadata": {},
     "output_type": "execute_result"
    }
   ],
   "source": [
    "C_predict_df = X_predict_df.drop(['MS Zoning', 'Roof Style',\n",
    "                                    'Roof Matl', 'Exterior 1st',\n",
    "                                    'Exterior 2nd', 'Mas Vnr Type', \n",
    "                                    'Street', 'Alley', 'Land Contour',\n",
    "                                    'Lot Config', 'Neighborhood', \n",
    "                                    'Condition 2', \n",
    "                                    'Bldg Type', 'House Style', \n",
    "                                    'Foundation', 'Heating', \n",
    "                                    'Central Air', 'Garage Type', \n",
    "                                    'Misc Feature','Sale Type'], axis = 1)\n",
    "C_predict_df.head()"
   ]
  },
  {
   "cell_type": "code",
   "execution_count": 13,
   "metadata": {},
   "outputs": [
    {
     "data": {
      "text/plain": [
       "(879, 176)"
      ]
     },
     "execution_count": 13,
     "metadata": {},
     "output_type": "execute_result"
    }
   ],
   "source": [
    "Clean_predict_df = pd.merge(predict_dummy_df, C_predict_df, on ='Id')\n",
    "Clean_predict_df.drop(['Id'],axis=1, inplace = True)\n",
    "Clean_predict_df.shape"
   ]
  },
  {
   "cell_type": "code",
   "execution_count": 14,
   "metadata": {},
   "outputs": [],
   "source": [
    "Clean_predict_df.fillna(0, inplace = True)"
   ]
  },
  {
   "cell_type": "code",
   "execution_count": 15,
   "metadata": {},
   "outputs": [],
   "source": [
    "Clean_predict_df.to_csv(\"./datasets/clean_test.csv\", index=False, header=True)"
   ]
  }
 ],
 "metadata": {
  "kernelspec": {
   "display_name": "Python 3",
   "language": "python",
   "name": "python3"
  },
  "language_info": {
   "codemirror_mode": {
    "name": "ipython",
    "version": 3
   },
   "file_extension": ".py",
   "mimetype": "text/x-python",
   "name": "python",
   "nbconvert_exporter": "python",
   "pygments_lexer": "ipython3",
   "version": "3.7.3"
  }
 },
 "nbformat": 4,
 "nbformat_minor": 2
}
